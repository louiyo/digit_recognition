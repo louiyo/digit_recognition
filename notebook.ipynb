{
 "cells": [
  {
   "cell_type": "code",
   "execution_count": 1,
   "metadata": {},
   "outputs": [],
   "source": [
    "from dlc_practical_prologue import *\n",
    "import torch\n",
    "import torchvision\n",
    "import matplotlib.pyplot as plt\n",
    "from time import time\n",
    "from torchvision import datasets, transforms\n",
    "from torch import nn, optim\n",
    "from torch.nn import functional as F\n",
    "\n",
    "\n",
    "train_input, train_target, train_classes, test_input, test_target, test_classes = generate_pair_sets(\n",
    "    1000)\n"
   ]
  },
  {
   "cell_type": "code",
   "execution_count": 2,
   "metadata": {},
   "outputs": [],
   "source": [
    "train_input_norm = (train_input - torch.min(train_input)) / (torch.max(train_input))\n",
    "test_input_norm = (test_input - torch.min(train_input)) / (torch.max(train_input))"
   ]
  },
  {
   "cell_type": "code",
   "execution_count": 3,
   "metadata": {},
   "outputs": [
    {
     "data": {
      "text/plain": [
       "<matplotlib.image.AxesImage at 0x7f6cec86d7f0>"
      ]
     },
     "execution_count": 3,
     "metadata": {},
     "output_type": "execute_result"
    },
    {
     "data": {
      "image/png": "[encoded data removed]",
      "text/plain": [
       "<Figure size 432x288 with 1 Axes>"
      ]
     },
     "metadata": {
      "needs_background": "light"
     },
     "output_type": "display_data"
    }
   ],
   "source": [
    "plt.imshow(train_input_norm[550][0])"
   ]
  },
  {
   "cell_type": "code",
   "execution_count": 5,
   "metadata": {},
   "outputs": [],
   "source": [
    "def get_n_params(model):\n",
    "    pp=0\n",
    "    for p in list(model.parameters()):\n",
    "        nn=1\n",
    "        for s in list(p.size()):\n",
    "            nn = nn*s\n",
    "        pp += nn\n",
    "    return pp"
   ]
  },
  {
   "cell_type": "code",
   "execution_count": null,
   "metadata": {},
   "outputs": [],
   "source": [
    "class Net2(nn.Module):\n",
    "    \n",
    "    def __init__(self):\n",
    "        super().__init__()\n",
    "        self.fc0 = nn.Flatten()\n",
    "        self.fc1 = nn.Linear(196, 128)\n",
    "        self.fc2 = nn.Linear(128, 64)\n",
    "        self.fc3 = nn.Linear(64, 32)\n",
    "        self.dropout = nn.Dropout(0.2)\n",
    "        self.fc4 = nn.Linear(32, 10)\n",
    "        self.fc5 = nn.Linear(10, 1)\n",
    "        self.fc6 = nn.Linear(2, 1)\n",
    "        \n",
    "        self.logsoft = nn.LogSoftmax(dim=1)\n",
    "    \n",
    "    def forward(self, x):\n",
    "        # INPUT IS A (2, 14, 14) TENSOR, OUTPUT IS (1)\n",
    "        x = self.fc0(x)\n",
    "        # (2, 196)\n",
    "        x = F.relu(self.fc1(x))\n",
    "        x = F.relu(self.fc2(x))\n",
    "        x = F.relu(self.fc3(x))\n",
    "        x = self.dropout(x)\n",
    "        x = F.relu(self.fc4(x))\n",
    "        output1 = self.logsoft(x)\n",
    "        #x = F.relu(self.fc5(torch.exp(x)))\n",
    "        x = F.relu(self.fc5(x))\n",
    "        x = torch.flatten(x, 0)\n",
    "        output2 = self.fc6(x)\n",
    "        #print(output2)\n",
    "        return output1, output2\n"
   ]
  },
  {
   "cell_type": "code",
   "execution_count": 106,
   "metadata": {},
   "outputs": [
    {
     "data": {
      "text/plain": [
       "41688"
      ]
     },
     "execution_count": 106,
     "metadata": {},
     "output_type": "execute_result"
    }
   ],
   "source": [
    "class Net_convo(nn.Module):\n",
    "    \n",
    "    def __init__(self):\n",
    "        super().__init__()\n",
    "        self.conv1 = nn.Conv2d(2, 32, 3, 1, groups=2)\n",
    "        self.norm = nn.BatchNorm2d(32)\n",
    "        self.dropout = nn.Dropout(0.2)\n",
    "        self.conv2 = nn.Conv2d(32, 64, 3, 1, groups=2)\n",
    "        self.lin1 = nn.Linear(3200, 10)\n",
    "        self.lin2 = nn.Linear(10, 1)\n",
    "        self.lin3 = nn.Linear(2, 1)\n",
    "        \n",
    "        self.logsoft = nn.LogSoftmax(dim=1)\n",
    "\n",
    "    def forward(self, x):\n",
    "        # (25, 2, 14, 14)\n",
    "        # We use batch normalization for covariate shift\n",
    "        x = F.relu(self.conv1(x))\n",
    "        x = F.max_pool2d(x, 1)\n",
    "        x = self.norm(x)\n",
    "        x = self.dropout(x)\n",
    "        x = F.relu(self.conv2(x))\n",
    "        x = F.max_pool2d(x, 1)\n",
    "        x = x.view(25, 2, -1)\n",
    "        x = torch.flatten(x, 2)\n",
    "        # (25, 2, 3200)\n",
    "        x = F.relu(self.lin1(x))\n",
    "        # (25, 2, 10)\n",
    "        output1 = self.logsoft(x)\n",
    "        # (25, 2, 10)\n",
    "        x = F.relu(self.lin2(x))\n",
    "        print(x.size())\n",
    "        # (25, 2, 1)\n",
    "        x = torch.flatten(x, 1)\n",
    "        # (25, 2)\n",
    "        output2 = F.relu(self.lin3(x))\n",
    "        # (25, 1)\n",
    "        return output1, output2\n",
    "    \n",
    "get_n_params(Net_convo())"
   ]
  },
  {
   "cell_type": "markdown",
   "metadata": {},
   "source": [
    "## Batches of (2, 14, 14)"
   ]
  },
  {
   "cell_type": "code",
   "execution_count": 78,
   "metadata": {},
   "outputs": [
    {
     "name": "stdout",
     "output_type": "stream",
     "text": [
      "torch.Size([2, 10]) output1\n",
      "torch.Size([1]) output2\n"
     ]
    }
   ],
   "source": [
    "model = Net2()\n",
    "\n",
    "criterion1 = nn.NLLLoss()\n",
    "criterion2 = nn.BCEWithLogitsLoss()\n",
    "optimizer = optim.SGD(model.parameters(), lr=0.002, momentum=0.75)\n",
    "time0 = time()\n",
    "epochs = 25\n",
    "\n",
    "for e in range(epochs):\n",
    "    running_loss = 0\n",
    "    for i in range(len(train_input_norm)):\n",
    "\n",
    "\n",
    "        optimizer.zero_grad()\n",
    "        #optimizer_aux.zero_grad()\n",
    "        #print(torch.flatten(train_input_flat.narrow(0, b, mini_batch_size), 1, 2).size())\n",
    "\n",
    "        output1, output2 = model(train_input_norm[i])\n",
    "        loss1 = criterion1(output1, train_classes[i])\n",
    "        loss2 = criterion2(output2, train_target[i].reshape(1).to(torch.float32))\n",
    "        \n",
    "        w2 = 0.3\n",
    "\n",
    "        loss = loss1 + loss2 * w2\n",
    "        loss.backward()\n",
    "        optimizer.step()\n",
    "        break\n",
    "\n",
    "\n",
    "        running_loss += loss1.item() + loss2.item() * w2\n",
    "    break\n",
    "    print(\"Epoch {} - Training loss: {}\".format(e+1, running_loss/len(train_input)))\n",
    "    print(\"\\nTraining Time (in minutes) =\",(time()-time0)/60)\n",
    "    "
   ]
  },
  {
   "cell_type": "markdown",
   "metadata": {},
   "source": [
    "## Batches of (b, 2, 14, 14)"
   ]
  },
  {
   "cell_type": "code",
   "execution_count": 107,
   "metadata": {},
   "outputs": [
    {
     "name": "stdout",
     "output_type": "stream",
     "text": [
      "torch.Size([25, 2, 1])\n",
      "torch.Size([25, 2, 1])\n",
      "torch.Size([25, 2, 1])\n"
     ]
    },
    {
     "ename": "KeyboardInterrupt",
     "evalue": "",
     "output_type": "error",
     "traceback": [
      "\u001b[0;31m---------------------------------------------------------------------------\u001b[0m",
      "\u001b[0;31mKeyboardInterrupt\u001b[0m                         Traceback (most recent call last)",
      "\u001b[0;32m<ipython-input-107-980d9aa62b23>\u001b[0m in \u001b[0;36m<module>\u001b[0;34m\u001b[0m\n\u001b[1;32m     26\u001b[0m \u001b[0;34m\u001b[0m\u001b[0m\n\u001b[1;32m     27\u001b[0m         \u001b[0mloss\u001b[0m \u001b[0;34m=\u001b[0m \u001b[0mloss1\u001b[0m \u001b[0;34m+\u001b[0m \u001b[0mloss2\u001b[0m\u001b[0;34m\u001b[0m\u001b[0;34m\u001b[0m\u001b[0m\n\u001b[0;32m---> 28\u001b[0;31m         \u001b[0mloss\u001b[0m\u001b[0;34m.\u001b[0m\u001b[0mbackward\u001b[0m\u001b[0;34m(\u001b[0m\u001b[0;34m)\u001b[0m\u001b[0;34m\u001b[0m\u001b[0;34m\u001b[0m\u001b[0m\n\u001b[0m\u001b[1;32m     29\u001b[0m         \u001b[0moptimizer\u001b[0m\u001b[0;34m.\u001b[0m\u001b[0mstep\u001b[0m\u001b[0;34m(\u001b[0m\u001b[0;34m)\u001b[0m\u001b[0;34m\u001b[0m\u001b[0;34m\u001b[0m\u001b[0m\n\u001b[1;32m     30\u001b[0m \u001b[0;34m\u001b[0m\u001b[0m\n",
      "\u001b[0;32m/usr/local/lib/python3.6/dist-packages/torch/tensor.py\u001b[0m in \u001b[0;36mbackward\u001b[0;34m(self, gradient, retain_graph, create_graph)\u001b[0m\n\u001b[1;32m    219\u001b[0m                 \u001b[0mretain_graph\u001b[0m\u001b[0;34m=\u001b[0m\u001b[0mretain_graph\u001b[0m\u001b[0;34m,\u001b[0m\u001b[0;34m\u001b[0m\u001b[0;34m\u001b[0m\u001b[0m\n\u001b[1;32m    220\u001b[0m                 create_graph=create_graph)\n\u001b[0;32m--> 221\u001b[0;31m         \u001b[0mtorch\u001b[0m\u001b[0;34m.\u001b[0m\u001b[0mautograd\u001b[0m\u001b[0;34m.\u001b[0m\u001b[0mbackward\u001b[0m\u001b[0;34m(\u001b[0m\u001b[0mself\u001b[0m\u001b[0;34m,\u001b[0m \u001b[0mgradient\u001b[0m\u001b[0;34m,\u001b[0m \u001b[0mretain_graph\u001b[0m\u001b[0;34m,\u001b[0m \u001b[0mcreate_graph\u001b[0m\u001b[0;34m)\u001b[0m\u001b[0;34m\u001b[0m\u001b[0;34m\u001b[0m\u001b[0m\n\u001b[0m\u001b[1;32m    222\u001b[0m \u001b[0;34m\u001b[0m\u001b[0m\n\u001b[1;32m    223\u001b[0m     \u001b[0;32mdef\u001b[0m \u001b[0mregister_hook\u001b[0m\u001b[0;34m(\u001b[0m\u001b[0mself\u001b[0m\u001b[0;34m,\u001b[0m \u001b[0mhook\u001b[0m\u001b[0;34m)\u001b[0m\u001b[0;34m:\u001b[0m\u001b[0;34m\u001b[0m\u001b[0;34m\u001b[0m\u001b[0m\n",
      "\u001b[0;32m/usr/local/lib/python3.6/dist-packages/torch/autograd/__init__.py\u001b[0m in \u001b[0;36mbackward\u001b[0;34m(tensors, grad_tensors, retain_graph, create_graph, grad_variables)\u001b[0m\n\u001b[1;32m    130\u001b[0m     Variable._execution_engine.run_backward(\n\u001b[1;32m    131\u001b[0m         \u001b[0mtensors\u001b[0m\u001b[0;34m,\u001b[0m \u001b[0mgrad_tensors_\u001b[0m\u001b[0;34m,\u001b[0m \u001b[0mretain_graph\u001b[0m\u001b[0;34m,\u001b[0m \u001b[0mcreate_graph\u001b[0m\u001b[0;34m,\u001b[0m\u001b[0;34m\u001b[0m\u001b[0;34m\u001b[0m\u001b[0m\n\u001b[0;32m--> 132\u001b[0;31m         allow_unreachable=True)  # allow_unreachable flag\n\u001b[0m\u001b[1;32m    133\u001b[0m \u001b[0;34m\u001b[0m\u001b[0m\n\u001b[1;32m    134\u001b[0m \u001b[0;34m\u001b[0m\u001b[0m\n",
      "\u001b[0;31mKeyboardInterrupt\u001b[0m: "
     ]
    }
   ],
   "source": [
    "\n",
    "# WITH BATCHES\n",
    "\n",
    "\n",
    "model = Net_convo()\n",
    "\n",
    "criterion1 = nn.NLLLoss()\n",
    "criterion2 = nn.BCEWithLogitsLoss()\n",
    "optimizer = optim.SGD(model.parameters(), lr=0.001, momentum=0.6)\n",
    "time0 = time()\n",
    "epochs = 25\n",
    "\n",
    "mini_batch_size = 25\n",
    "\n",
    "for e in range(epochs):\n",
    "    running_loss = 0\n",
    "    for b in range(0, train_input.size(0), mini_batch_size):\n",
    "\n",
    "\n",
    "        optimizer.zero_grad()\n",
    "        output1, output2 = model(train_input.narrow(0, b, mini_batch_size))\n",
    "        \n",
    "        loss1 = criterion1(output1.view(-1, 10), train_classes.narrow(0, b, mini_batch_size).view(-1))\n",
    "        loss2 = criterion2(output2.view(-1), train_target.narrow(0, b, mini_batch_size).to(torch.float32))\n",
    "\n",
    "        w2 = 0.3\n",
    "\n",
    "        loss = loss1 + loss2\n",
    "        loss.backward()\n",
    "        optimizer.step()\n",
    "\n",
    "\n",
    "\n",
    "        running_loss += loss1.item() + loss2.item() * w2\n",
    "\n",
    "    print(\"Epoch {} - Training loss: {}\".format(e+1, running_loss/len(train_input)))\n",
    "    print(\"\\nTraining Time (in minutes) =\",(time()-time0)/60)\n",
    "    "
   ]
  },
  {
   "cell_type": "code",
   "execution_count": 103,
   "metadata": {},
   "outputs": [
    {
     "name": "stdout",
     "output_type": "stream",
     "text": [
      "Number Of Images Tested = 2000\n",
      "\n",
      "Model Accuracy = 0.5745 \n",
      "\n",
      "\n",
      "Number Of Inequalities tested = 1000\n",
      "\n",
      "Model Accuracy = 0.64\n"
     ]
    }
   ],
   "source": [
    "def compute_err_digit_recog(model, test_input, test_classes, batches = False): # CHANGER LES NOMS SVP\n",
    "\n",
    "    correct_count_digit, all_count_digit = 0, 0\n",
    "    correct_count_equal, all_count_equal = 0, 0\n",
    "    \n",
    "    if not batches:\n",
    "    \n",
    "    \n",
    "        for img, label, target, i in zip(test_input, test_classes, \n",
    "                                                test_target, range(len(test_classes))):   \n",
    "            with torch.no_grad():\n",
    "                log_probs_digits, probs_equality = model(img)\n",
    "\n",
    "\n",
    "            probs = torch.exp(log_probs_digits)\n",
    "            _, preds = torch.max(probs,dim=1)\n",
    "            true_labels = label\n",
    "\n",
    "            for predicted, groundtruth in zip(preds, true_labels):\n",
    "                if(predicted == groundtruth):\n",
    "                    correct_count_digit += 1\n",
    "                #print(predicted, groundtruth)\n",
    "                all_count_digit += 1\n",
    "\n",
    "\n",
    "\n",
    "            if((torch.sigmoid(probs_equality) >= 0.5 and target == 1) or \n",
    "                       (torch.sigmoid(probs_equality) < 0.5 and target == 0)):\n",
    "                correct_count_equal += 1\n",
    "            all_count_equal +=1\n",
    "            \n",
    "            \n",
    "    else:\n",
    "\n",
    "        for i in range(0, len(train_input_norm), mini_batch_size):\n",
    "        \n",
    "            with torch.no_grad():\n",
    "                log_probs_digits, probs_equality = model(test_input.narrow(0, b, mini_batch_size))\n",
    "            \n",
    "            probs = torch.exp(log_probs_digits)\n",
    "            _, preds = torch.max(probs,dim=2)\n",
    "            true_labels = test_classes.narrow(0, b, mini_batch_size)\n",
    "            targets = test_target.narrow(0, b, mini_batch_size)\n",
    "            \n",
    "            \n",
    "            \n",
    "            for predicted, groundtruth in zip(preds, true_labels):\n",
    "                if(predicted[0] == groundtruth[0]):\n",
    "                    correct_count_digit += 1\n",
    "                if(predicted[1] == groundtruth[1]):\n",
    "                    correct_count_digit += 1\n",
    "                #print(predicted, groundtruth)\n",
    "                all_count_digit += 2\n",
    "               \n",
    "            for prob_equality, target in zip(probs_equality.view(-1), targets):\n",
    "                if((torch.sigmoid(prob_equality) >= 0.5 and target == 1) or \n",
    "                           (torch.sigmoid(prob_equality) < 0.5 and target == 0)):\n",
    "                    correct_count_equal += 1\n",
    "                all_count_equal +=1\n",
    "            \n",
    "            \n",
    "        \n",
    "    print(\"Number Of Images Tested =\", all_count_digit)\n",
    "    print(\"\\nModel Accuracy =\", (correct_count_digit/all_count_digit), '\\n\\n')\n",
    "    print(\"Number Of Inequalities tested =\", all_count_equal)\n",
    "    print(\"\\nModel Accuracy =\", (correct_count_equal/all_count_equal))\n",
    "    \n",
    "compute_err_digit_recog(model, test_input_norm, test_classes, batches = True)"
   ]
  }
 ],
 "metadata": {
  "kernelspec": {
   "display_name": "Python 3",
   "language": "python",
   "name": "python3"
  },
  "language_info": {
   "codemirror_mode": {
    "name": "ipython",
    "version": 3
   },
   "file_extension": ".py",
   "mimetype": "text/x-python",
   "name": "python",
   "nbconvert_exporter": "python",
   "pygments_lexer": "ipython3",
   "version": "3.6.9"
  }
 },
 "nbformat": 4,
 "nbformat_minor": 4
}
