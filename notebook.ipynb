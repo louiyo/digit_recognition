{
 "cells": [
  {
   "cell_type": "code",
   "execution_count": 2,
   "metadata": {},
   "outputs": [],
   "source": [
    "from dlc_practical_prologue import *\n",
    "import torch\n",
    "import torchvision\n",
    "import matplotlib.pyplot as plt\n",
    "from time import time\n",
    "from torchvision import datasets, transforms\n",
    "from torch import nn, optim\n",
    "from torch.nn import functional as F\n",
    "\n",
    "\n",
    "train_input, train_target, train_classes, test_input, test_target, test_classes = generate_pair_sets(\n",
    "    1000)\n"
   ]
  },
  {
   "cell_type": "code",
   "execution_count": 3,
   "metadata": {},
   "outputs": [
    {
     "name": "stdout",
     "output_type": "stream",
     "text": [
      "torch.Size([1000, 2, 14, 14])\n"
     ]
    }
   ],
   "source": [
    "print(train_input.size())"
   ]
  },
  {
   "cell_type": "code",
   "execution_count": 4,
   "metadata": {},
   "outputs": [],
   "source": [
    "train_input_norm = (train_input - torch.min(train_input)) / (torch.max(train_input))\n",
    "test_input_norm = (test_input - torch.min(train_input)) / (torch.max(train_input))"
   ]
  },
  {
   "cell_type": "code",
   "execution_count": 120,
   "metadata": {},
   "outputs": [
    {
     "data": {
      "text/plain": [
       "<matplotlib.image.AxesImage at 0x7f3500630320>"
      ]
     },
     "execution_count": 120,
     "metadata": {},
     "output_type": "execute_result"
    },
    {
     "data": {
      "image/png": "[encoded data removed]",
      "text/plain": [
       "<Figure size 432x288 with 1 Axes>"
      ]
     },
     "metadata": {
      "needs_background": "light"
     },
     "output_type": "display_data"
    }
   ],
   "source": [
    "plt.imshow(train_input_norm[550][0])"
   ]
  },
  {
   "cell_type": "code",
   "execution_count": 9,
   "metadata": {},
   "outputs": [
    {
     "name": "stdout",
     "output_type": "stream",
     "text": [
      "35896\n"
     ]
    }
   ],
   "source": [
    "def get_n_params(model):\n",
    "    pp=0\n",
    "    for p in list(model.parameters()):\n",
    "        nn=1\n",
    "        for s in list(p.size()):\n",
    "            nn = nn*s\n",
    "        pp += nn\n",
    "    return pp\n",
    "print(get_n_params(model))"
   ]
  },
  {
   "cell_type": "code",
   "execution_count": 48,
   "metadata": {},
   "outputs": [],
   "source": [
    "class Net2(nn.Module):\n",
    "    \n",
    "    def __init__(self):\n",
    "        super().__init__()\n",
    "        self.fc0 = nn.Flatten()\n",
    "        self.fc1 = nn.Linear(196, 128)\n",
    "        self.fc2 = nn.Linear(128, 64)\n",
    "        self.fc3 = nn.Linear(64, 32)\n",
    "        self.dropout = nn.Dropout(0.25)\n",
    "        self.fc4 = nn.Linear(32, 10)\n",
    "        self.fc5 = nn.Linear(10, 1)\n",
    "        self.fc6 = nn.Linear(2, 1)\n",
    "        \n",
    "        self.logsoft = nn.LogSoftmax(dim=1)\n",
    "    \n",
    "    def forward(self, x):\n",
    "        # INPUT IS A (2, 14, 14) TENSOR, OUTPUT IS (1)\n",
    "        x = self.fc0(x)\n",
    "        # (2, 196)\n",
    "        x = F.relu(self.fc1(x))\n",
    "        x = F.relu(self.fc2(x))\n",
    "        x = F.relu(self.fc3(x))\n",
    "        x = self.dropout(x)\n",
    "        x = F.relu(self.fc4(x))\n",
    "        output1 = self.logsoft(x)\n",
    "        #x = F.relu(self.fc5(torch.exp(x)))\n",
    "        #print(x.size())\n",
    "        \n",
    "        #print(x.size())\n",
    "        x = F.relu(self.fc5(x))\n",
    "        x = torch.flatten(x, 0)\n",
    "        output2 = self.fc6(x)\n",
    "        #print(output2)\n",
    "        return output1, output2\n"
   ]
  },
  {
   "cell_type": "code",
   "execution_count": 39,
   "metadata": {},
   "outputs": [
    {
     "data": {
      "text/plain": [
       "73624"
      ]
     },
     "execution_count": 39,
     "metadata": {},
     "output_type": "execute_result"
    }
   ],
   "source": [
    "class Net_convo(nn.Module):\n",
    "    \n",
    "    def __init__(self):\n",
    "        super().__init__()\n",
    "        self.conv1 = nn.Conv2d(2, 32, 3, 1, groups=2)\n",
    "        self.conv2 = nn.Conv2d(32, 64, 3, 1, groups=2)\n",
    "        self.fc = nn.Linear(6400, 10)\n",
    "        self.fc5 = nn.Linear(10, 1)\n",
    "        self.fc6 = nn.Linear(2, 1)\n",
    "\n",
    "    def forward(self, x):\n",
    "        x = F.relu(self.conv1(x))\n",
    "        print(x.size())\n",
    "        x = F.relu(self.conv2(x))\n",
    "        x = F.max_pool2d(x, 1)\n",
    "        x = torch.flatten(x, 1)\n",
    "        x = self.fc(x)\n",
    "        print(x.size())\n",
    "        output1 = F.log_softmax(x, dim=1)\n",
    "        return output\n",
    "    \n",
    "get_n_params(Net_convo())"
   ]
  },
  {
   "cell_type": "markdown",
   "metadata": {},
   "source": [
    "## Batches of (2, 14, 14)"
   ]
  },
  {
   "cell_type": "code",
   "execution_count": 49,
   "metadata": {},
   "outputs": [
    {
     "name": "stdout",
     "output_type": "stream",
     "text": [
      "Epoch 1 - Training loss: 2.370706398501992\n",
      "\n",
      "Training Time (in minutes) = 0.03946290016174316\n",
      "Epoch 2 - Training loss: 2.358705683815477\n",
      "\n",
      "Training Time (in minutes) = 0.07684649626413981\n",
      "Epoch 3 - Training loss: 2.3039082026898843\n",
      "\n",
      "Training Time (in minutes) = 0.11465048392613729\n",
      "Epoch 4 - Training loss: 2.013262138183412\n",
      "\n",
      "Training Time (in minutes) = 0.15412001609802245\n",
      "Epoch 5 - Training loss: 1.7056462838789435\n",
      "\n",
      "Training Time (in minutes) = 0.19278246959050496\n",
      "Epoch 6 - Training loss: 1.5142114042938677\n",
      "\n",
      "Training Time (in minutes) = 0.23092281421025593\n",
      "Epoch 7 - Training loss: 1.3281400516172865\n",
      "\n",
      "Training Time (in minutes) = 0.26895553270975747\n",
      "Epoch 8 - Training loss: 1.1745112902824135\n",
      "\n",
      "Training Time (in minutes) = 0.3065964897473653\n",
      "Epoch 9 - Training loss: 1.0827492001691497\n",
      "\n",
      "Training Time (in minutes) = 0.34411661624908446\n",
      "Epoch 10 - Training loss: 1.0298014087310954\n",
      "\n",
      "Training Time (in minutes) = 0.38122197389602663\n",
      "Epoch 11 - Training loss: 0.9533075239107387\n",
      "\n",
      "Training Time (in minutes) = 0.42044599453608195\n",
      "Epoch 12 - Training loss: 0.7844360683643267\n",
      "\n",
      "Training Time (in minutes) = 0.4604085882504781\n",
      "Epoch 13 - Training loss: 0.6235451915795033\n",
      "\n",
      "Training Time (in minutes) = 0.49924249251683556\n",
      "Epoch 14 - Training loss: 0.4777534643001866\n",
      "\n",
      "Training Time (in minutes) = 0.5393612901369731\n",
      "Epoch 15 - Training loss: 0.40587559675895324\n",
      "\n",
      "Training Time (in minutes) = 0.5778679251670837\n",
      "Epoch 16 - Training loss: 0.3695930108417313\n",
      "\n",
      "Training Time (in minutes) = 0.6167559742927551\n",
      "Epoch 17 - Training loss: 0.3289563145294864\n",
      "\n",
      "Training Time (in minutes) = 0.6556345701217652\n",
      "Epoch 18 - Training loss: 0.3035768649943515\n",
      "\n",
      "Training Time (in minutes) = 0.6961214383443196\n",
      "Epoch 19 - Training loss: 0.26736408194459876\n",
      "\n",
      "Training Time (in minutes) = 0.7338634769121806\n",
      "Epoch 20 - Training loss: 0.2756083804073422\n",
      "\n",
      "Training Time (in minutes) = 0.7715014259020487\n",
      "Epoch 21 - Training loss: 0.23417757717102322\n",
      "\n",
      "Training Time (in minutes) = 0.8089226444562276\n",
      "Epoch 22 - Training loss: 0.23195781052120443\n",
      "\n",
      "Training Time (in minutes) = 0.8468862771987915\n",
      "Epoch 23 - Training loss: 0.20087317994599888\n",
      "\n",
      "Training Time (in minutes) = 0.8852654695510864\n",
      "Epoch 24 - Training loss: 0.17521663375653143\n",
      "\n",
      "Training Time (in minutes) = 0.9232152303059896\n",
      "Epoch 25 - Training loss: 0.2018392462601276\n",
      "\n",
      "Training Time (in minutes) = 0.9630806565284729\n"
     ]
    }
   ],
   "source": [
    "\n",
    "\n",
    "\n",
    "model = Net2()\n",
    "\n",
    "criterion1 = nn.NLLLoss()\n",
    "criterion2 = nn.BCEWithLogitsLoss()\n",
    "optimizer = optim.SGD(model.parameters(), lr=0.002, momentum=0.9)\n",
    "time0 = time()\n",
    "epochs = 25\n",
    "\n",
    "for e in range(epochs):\n",
    "    running_loss = 0\n",
    "    for i in range(len(train_input_norm)):\n",
    "\n",
    "\n",
    "        optimizer.zero_grad()\n",
    "        #optimizer_aux.zero_grad()\n",
    "        #print(torch.flatten(train_input_flat.narrow(0, b, mini_batch_size), 1, 2).size())\n",
    "\n",
    "        output1, output2 = model(train_input_norm[i])\n",
    "\n",
    "        loss1 = criterion1(output1, train_classes[i])\n",
    "        loss2 = criterion2(output2, train_target[i].reshape(1).to(torch.float32))\n",
    "        #print(loss2)\n",
    "\n",
    "        w2 = 0.1\n",
    "\n",
    "        loss = loss1 + loss2\n",
    "        loss.backward()\n",
    "        optimizer.step()\n",
    "\n",
    "\n",
    "\n",
    "        running_loss += loss1.item() + loss2.item() * w2\n",
    "\n",
    "    print(\"Epoch {} - Training loss: {}\".format(e+1, running_loss/len(train_input)))\n",
    "    print(\"\\nTraining Time (in minutes) =\",(time()-time0)/60)\n",
    "    "
   ]
  },
  {
   "cell_type": "markdown",
   "metadata": {},
   "source": [
    "## Batches of (b, 2, 14, 14)"
   ]
  },
  {
   "cell_type": "code",
   "execution_count": 40,
   "metadata": {},
   "outputs": [
    {
     "name": "stdout",
     "output_type": "stream",
     "text": [
      "torch.Size([25, 64, 10, 10])\n",
      "torch.Size([25, 64, 10, 10])\n",
      "torch.Size([25, 6400])\n",
      "torch.Size([25, 10])\n"
     ]
    },
    {
     "ename": "NameError",
     "evalue": "name 'output' is not defined",
     "output_type": "error",
     "traceback": [
      "\u001b[0;31m---------------------------------------------------------------------------\u001b[0m",
      "\u001b[0;31mNameError\u001b[0m                                 Traceback (most recent call last)",
      "\u001b[0;32m<ipython-input-40-af567b4d5912>\u001b[0m in \u001b[0;36m<module>\u001b[0;34m\u001b[0m\n\u001b[1;32m     18\u001b[0m \u001b[0;34m\u001b[0m\u001b[0m\n\u001b[1;32m     19\u001b[0m         \u001b[0moptimizer\u001b[0m\u001b[0;34m.\u001b[0m\u001b[0mzero_grad\u001b[0m\u001b[0;34m(\u001b[0m\u001b[0;34m)\u001b[0m\u001b[0;34m\u001b[0m\u001b[0;34m\u001b[0m\u001b[0m\n\u001b[0;32m---> 20\u001b[0;31m         \u001b[0moutput1\u001b[0m\u001b[0;34m,\u001b[0m \u001b[0moutput2\u001b[0m \u001b[0;34m=\u001b[0m \u001b[0mmodel\u001b[0m\u001b[0;34m(\u001b[0m\u001b[0mtrain_input_norm\u001b[0m\u001b[0;34m.\u001b[0m\u001b[0mnarrow\u001b[0m\u001b[0;34m(\u001b[0m\u001b[0;36m0\u001b[0m\u001b[0;34m,\u001b[0m \u001b[0mb\u001b[0m\u001b[0;34m,\u001b[0m \u001b[0mmini_batch_size\u001b[0m\u001b[0;34m)\u001b[0m\u001b[0;34m)\u001b[0m\u001b[0;34m\u001b[0m\u001b[0;34m\u001b[0m\u001b[0m\n\u001b[0m\u001b[1;32m     21\u001b[0m \u001b[0;34m\u001b[0m\u001b[0m\n\u001b[1;32m     22\u001b[0m         \u001b[0mloss1\u001b[0m \u001b[0;34m=\u001b[0m \u001b[0mcriterion1\u001b[0m\u001b[0;34m(\u001b[0m\u001b[0moutput1\u001b[0m\u001b[0;34m,\u001b[0m \u001b[0mtrain_classes\u001b[0m\u001b[0;34m.\u001b[0m\u001b[0mnarrow\u001b[0m\u001b[0;34m(\u001b[0m\u001b[0;36m0\u001b[0m\u001b[0;34m,\u001b[0m \u001b[0mb\u001b[0m\u001b[0;34m,\u001b[0m \u001b[0mmini_batch_size\u001b[0m\u001b[0;34m)\u001b[0m\u001b[0;34m)\u001b[0m\u001b[0;34m\u001b[0m\u001b[0;34m\u001b[0m\u001b[0m\n",
      "\u001b[0;32m/usr/local/lib/python3.6/dist-packages/torch/nn/modules/module.py\u001b[0m in \u001b[0;36m_call_impl\u001b[0;34m(self, *input, **kwargs)\u001b[0m\n\u001b[1;32m    725\u001b[0m             \u001b[0mresult\u001b[0m \u001b[0;34m=\u001b[0m \u001b[0mself\u001b[0m\u001b[0;34m.\u001b[0m\u001b[0m_slow_forward\u001b[0m\u001b[0;34m(\u001b[0m\u001b[0;34m*\u001b[0m\u001b[0minput\u001b[0m\u001b[0;34m,\u001b[0m \u001b[0;34m**\u001b[0m\u001b[0mkwargs\u001b[0m\u001b[0;34m)\u001b[0m\u001b[0;34m\u001b[0m\u001b[0;34m\u001b[0m\u001b[0m\n\u001b[1;32m    726\u001b[0m         \u001b[0;32melse\u001b[0m\u001b[0;34m:\u001b[0m\u001b[0;34m\u001b[0m\u001b[0;34m\u001b[0m\u001b[0m\n\u001b[0;32m--> 727\u001b[0;31m             \u001b[0mresult\u001b[0m \u001b[0;34m=\u001b[0m \u001b[0mself\u001b[0m\u001b[0;34m.\u001b[0m\u001b[0mforward\u001b[0m\u001b[0;34m(\u001b[0m\u001b[0;34m*\u001b[0m\u001b[0minput\u001b[0m\u001b[0;34m,\u001b[0m \u001b[0;34m**\u001b[0m\u001b[0mkwargs\u001b[0m\u001b[0;34m)\u001b[0m\u001b[0;34m\u001b[0m\u001b[0;34m\u001b[0m\u001b[0m\n\u001b[0m\u001b[1;32m    728\u001b[0m         for hook in itertools.chain(\n\u001b[1;32m    729\u001b[0m                 \u001b[0m_global_forward_hooks\u001b[0m\u001b[0;34m.\u001b[0m\u001b[0mvalues\u001b[0m\u001b[0;34m(\u001b[0m\u001b[0;34m)\u001b[0m\u001b[0;34m,\u001b[0m\u001b[0;34m\u001b[0m\u001b[0;34m\u001b[0m\u001b[0m\n",
      "\u001b[0;32m<ipython-input-39-70b2296f2023>\u001b[0m in \u001b[0;36mforward\u001b[0;34m(self, x)\u001b[0m\n\u001b[1;32m     20\u001b[0m         \u001b[0mprint\u001b[0m\u001b[0;34m(\u001b[0m\u001b[0mx\u001b[0m\u001b[0;34m.\u001b[0m\u001b[0msize\u001b[0m\u001b[0;34m(\u001b[0m\u001b[0;34m)\u001b[0m\u001b[0;34m)\u001b[0m\u001b[0;34m\u001b[0m\u001b[0;34m\u001b[0m\u001b[0m\n\u001b[1;32m     21\u001b[0m         \u001b[0moutput1\u001b[0m \u001b[0;34m=\u001b[0m \u001b[0mF\u001b[0m\u001b[0;34m.\u001b[0m\u001b[0mlog_softmax\u001b[0m\u001b[0;34m(\u001b[0m\u001b[0mx\u001b[0m\u001b[0;34m,\u001b[0m \u001b[0mdim\u001b[0m\u001b[0;34m=\u001b[0m\u001b[0;36m1\u001b[0m\u001b[0;34m)\u001b[0m\u001b[0;34m\u001b[0m\u001b[0;34m\u001b[0m\u001b[0m\n\u001b[0;32m---> 22\u001b[0;31m         \u001b[0;32mreturn\u001b[0m \u001b[0moutput\u001b[0m\u001b[0;34m\u001b[0m\u001b[0;34m\u001b[0m\u001b[0m\n\u001b[0m\u001b[1;32m     23\u001b[0m \u001b[0;34m\u001b[0m\u001b[0m\n\u001b[1;32m     24\u001b[0m \u001b[0mget_n_params\u001b[0m\u001b[0;34m(\u001b[0m\u001b[0mNet_convo\u001b[0m\u001b[0;34m(\u001b[0m\u001b[0;34m)\u001b[0m\u001b[0;34m)\u001b[0m\u001b[0;34m\u001b[0m\u001b[0;34m\u001b[0m\u001b[0m\n",
      "\u001b[0;31mNameError\u001b[0m: name 'output' is not defined"
     ]
    }
   ],
   "source": [
    "\n",
    "# WITH BATCHES\n",
    "\n",
    "\n",
    "model = Net_convo()\n",
    "\n",
    "criterion1 = nn.NLLLoss()\n",
    "criterion2 = nn.BCEWithLogitsLoss()\n",
    "optimizer = optim.SGD(model.parameters(), lr=0.001, momentum=0.9)\n",
    "time0 = time()\n",
    "epochs = 25\n",
    "\n",
    "mini_batch_size = 25\n",
    "\n",
    "for e in range(epochs):\n",
    "    running_loss = 0\n",
    "    for b in range(0, train_input_norm.size(0), mini_batch_size):\n",
    "\n",
    "\n",
    "        optimizer.zero_grad()\n",
    "        output1, output2 = model(train_input_norm.narrow(0, b, mini_batch_size))\n",
    "\n",
    "        loss1 = criterion1(output1, train_classes.narrow(0, b, mini_batch_size))\n",
    "        loss2 = criterion2(output2, train_target.narrow(0, b, mini_batch_size).to(torch.float32))\n",
    "        #print(loss2)\n",
    "\n",
    "        w2 = 0.1\n",
    "\n",
    "        loss = loss1 + loss2\n",
    "        loss.backward()\n",
    "        optimizer.step()\n",
    "\n",
    "\n",
    "\n",
    "        running_loss += loss1.item() + loss2.item() * w2\n",
    "\n",
    "    print(\"Epoch {} - Training loss: {}\".format(e+1, running_loss/len(train_input)))\n",
    "    print(\"\\nTraining Time (in minutes) =\",(time()-time0)/60)\n",
    "    "
   ]
  },
  {
   "cell_type": "code",
   "execution_count": 22,
   "metadata": {},
   "outputs": [
    {
     "data": {
      "text/plain": [
       "tensor(33.1434)"
      ]
     },
     "execution_count": 22,
     "metadata": {},
     "output_type": "execute_result"
    }
   ],
   "source": [
    "torch.mean(train_input)"
   ]
  },
  {
   "cell_type": "code",
   "execution_count": 50,
   "metadata": {},
   "outputs": [
    {
     "name": "stdout",
     "output_type": "stream",
     "text": [
      "Number Of Images Tested = 2000\n",
      "\n",
      "Model Accuracy = 0.8885 \n",
      "\n",
      "\n",
      "Number Of Inequalities tested = 1000\n",
      "\n",
      "Model Accuracy = 0.857\n"
     ]
    }
   ],
   "source": [
    "def compute_err_digit_recog(model, test_input_norm, test_classes): # CHANGER LES NOMS SVP\n",
    "\n",
    "    correct_count_digit, all_count_digit = 0, 0\n",
    "    correct_count_equal, all_count_equal = 0, 0\n",
    "    \n",
    "    for img, label, target, i in zip(test_input_norm, test_classes, \n",
    "                                            test_target, range(len(test_classes))):   \n",
    "\n",
    "        with torch.no_grad():\n",
    "            log_probs_digits, probs_equality = model(img)\n",
    "        \n",
    "        #print(torch.sigmoid(probs_equality), test_target[i])\n",
    "\n",
    "\n",
    "        probs = torch.exp(log_probs_digits)\n",
    "        _, preds = torch.max(probs,dim=1)\n",
    "        true_labels = label\n",
    "\n",
    "        for predicted, groundtruth in zip(preds, true_labels):\n",
    "            if(predicted == groundtruth):\n",
    "                correct_count_digit += 1\n",
    "            #print(predicted, groundtruth)\n",
    "            all_count_digit += 1\n",
    "        \n",
    "        \n",
    "        \n",
    "        if((torch.sigmoid(probs_equality) >= 0.5 and target == 1) or \n",
    "                   (torch.sigmoid(probs_equality) < 0.5 and target == 0)):\n",
    "            correct_count_equal += 1\n",
    "        all_count_equal +=1\n",
    "        \n",
    "\n",
    "    print(\"Number Of Images Tested =\", all_count_digit)\n",
    "    print(\"\\nModel Accuracy =\", (correct_count_digit/all_count_digit), '\\n\\n')\n",
    "    print(\"Number Of Inequalities tested =\", all_count_equal)\n",
    "    print(\"\\nModel Accuracy =\", (correct_count_equal/all_count_equal))\n",
    "    \n",
    "compute_err_digit_recog(model, test_input_norm, test_classes)"
   ]
  },
  {
   "cell_type": "code",
   "execution_count": null,
   "metadata": {},
   "outputs": [],
   "source": [
    "def compute_nb_errors(model, data_input, data_target):\n",
    "\n",
    "    correct_count, all_count = 0\n",
    "\n",
    "    for b in range(0, data_input.size(0), mini_batch_size):\n",
    "        _, output = model(data_input.narrow(0, b, mini_batch_size))\n",
    "        _, predicted_classes = torch.max(output, 1)\n",
    "        for k in range(mini_batch_size):\n",
    "            print(data_target[b+k])\n",
    "            print(predicted_classes[k])\n",
    "            print(\"|----|\")\n",
    "            if data_target[b + k] != predicted_classes[k]:\n",
    "                nb_data_errors = nb_data_errors + 1\n",
    "\n",
    "    return nb_data_errors\n",
    "\n",
    "print(train_input.size())\n",
    "\n",
    "compute_nb_errors(model, train_input, train_target)\n"
   ]
  },
  {
   "cell_type": "code",
   "execution_count": 46,
   "metadata": {},
   "outputs": [
    {
     "name": "stdout",
     "output_type": "stream",
     "text": [
      "2000\n"
     ]
    }
   ],
   "source": [
    "print(len(test_classes_flat))"
   ]
  },
  {
   "cell_type": "code",
   "execution_count": 39,
   "metadata": {
    "collapsed": true,
    "jupyter": {
     "outputs_hidden": true
    }
   },
   "outputs": [
    {
     "name": "stdout",
     "output_type": "stream",
     "text": [
      "torch.Size([1000, 196])\n"
     ]
    }
   ],
   "source": [
    "print(torch.flatten(torch.flatten(test_input_norm, 0, 1), 1, 2).size())"
   ]
  }
 ],
 "metadata": {
  "kernelspec": {
   "display_name": "Python 3",
   "language": "python",
   "name": "python3"
  },
  "language_info": {
   "codemirror_mode": {
    "name": "ipython",
    "version": 3
   },
   "file_extension": ".py",
   "mimetype": "text/x-python",
   "name": "python",
   "nbconvert_exporter": "python",
   "pygments_lexer": "ipython3",
   "version": "3.6.9"
  }
 },
 "nbformat": 4,
 "nbformat_minor": 4
}
